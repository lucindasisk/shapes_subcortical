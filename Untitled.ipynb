{
 "cells": [
  {
   "cell_type": "code",
   "execution_count": 2,
   "id": "caroline-purple",
   "metadata": {},
   "outputs": [],
   "source": [
    "import pandas as pd\n",
    "import numpy as np\n",
    "import os\n",
    "import copy\n",
    "from glob import glob"
   ]
  },
  {
   "cell_type": "code",
   "execution_count": 4,
   "id": "union-victoria",
   "metadata": {},
   "outputs": [],
   "source": [
    "datapath = '/gpfs/milgram/pi/gee_dylan/candlab/data/mri/shapes_freesurfer'\n",
    "outpath = '/gpfs/milgram/pi/gee_dylan/candlab/analyses/shapes/shapes_subcortical_LMS_SFL'"
   ]
  },
  {
   "cell_type": "code",
   "execution_count": 11,
   "id": "orange-waterproof",
   "metadata": {},
   "outputs": [
    {
     "data": {
      "text/plain": [
       "207"
      ]
     },
     "execution_count": 11,
     "metadata": {},
     "output_type": "execute_result"
    }
   ],
   "source": [
    "subs = pd.Series(glob(datapath + '/sub*')).str.lstrip(datapath + '/-').sort_values().tolist()\n",
    "len(subs)"
   ]
  },
  {
   "cell_type": "code",
   "execution_count": null,
   "id": "altered-virginia",
   "metadata": {},
   "outputs": [],
   "source": [
    "if os.path.exists(datapath + '/')"
   ]
  }
 ],
 "metadata": {
  "kernelspec": {
   "display_name": "Python 3",
   "language": "python",
   "name": "python3"
  },
  "language_info": {
   "codemirror_mode": {
    "name": "ipython",
    "version": 3
   },
   "file_extension": ".py",
   "mimetype": "text/x-python",
   "name": "python",
   "nbconvert_exporter": "python",
   "pygments_lexer": "ipython3",
   "version": "3.7.9"
  }
 },
 "nbformat": 4,
 "nbformat_minor": 5
}
